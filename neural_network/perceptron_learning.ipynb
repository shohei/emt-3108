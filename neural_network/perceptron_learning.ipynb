{
 "cells": [
  {
   "cell_type": "code",
   "execution_count": 1,
   "source": [
    "import random\n",
    "\n",
    "class Perceptron():\n",
    "    def __init__(self):\n",
    "        self.w1 = random.random()\n",
    "        self.w2 = random.random()\n",
    "        self.theta = random.random()\n",
    "    \n",
    "    def forward(self, x1, x2):\n",
    "        a = self.w1*x1 + self.w2*x2\n",
    "        if a>self.theta:\n",
    "            y = 1\n",
    "        else:\n",
    "            y = 0\n",
    "        return y\n",
    "\n",
    "p = Perceptron()\n",
    "# truth_table = [(0,0,0),(0,1,0),(1,0,0),(1,1,1)] #AND\n",
    "# truth_table = [(0,0,0),(0,1,1),(1,0,1),(1,1,1)] #OR\n",
    "# truth_table = [(0,0,1),(0,1,1),(1,0,1),(1,1,0)] #NAND\n",
    "truth_table = [(0,0,0),(1,0,1),(0,1,1),(1,1,0)] #XOR\n",
    "epsilon = 1e-5\n",
    "max_error = 1000\n",
    "alpha = 0.1\n",
    "while max_error>epsilon:\n",
    "    errors = []\n",
    "    for t in truth_table:\n",
    "        x1 = t[0]\n",
    "        x2 = t[1]\n",
    "        r = t[2]\n",
    "        y = p.forward(x1,x2)\n",
    "        p.w1 = p.w1 + alpha*(r-y)*x1\n",
    "        p.w2 = p.w2 + alpha*(r-y)*x2\n",
    "        p.theta = p.theta - alpha*(r-y)\n",
    "        error = abs(y-r)\n",
    "        errors.append(error)\n",
    "    print(\"errors\",errors)\n",
    "    max_error = max(errors) \n",
    "\n",
    "print(\"w1:\",p.w1,\"w2:\",p.w2,\"theta:\",p.theta)\n"
   ],
   "outputs": [
    {
     "output_type": "stream",
     "name": "stdout",
     "text": [
      "errors [1, 0, 0, 1]\n",
      "errors [1, 0, 0, 1]\n",
      "errors [1, 0, 0, 1]\n",
      "errors [1, 0, 0, 1]\n",
      "errors [1, 0, 0, 1]\n",
      "errors [1, 0, 0, 1]\n",
      "errors [1, 0, 0, 1]\n",
      "errors [1, 0, 1, 1]\n",
      "errors [0, 0, 1, 1]\n",
      "errors [0, 1, 0, 1]\n",
      "errors [0, 1, 1, 1]\n",
      "errors [0, 0, 1, 1]\n",
      "errors [0, 1, 0, 0]\n",
      "errors [0, 0, 0, 0]\n",
      "w1: -0.2177604854865607 w2: -0.10369757471243868 theta: -0.25266819951814945\n"
     ]
    }
   ],
   "metadata": {}
  },
  {
   "cell_type": "code",
   "execution_count": null,
   "source": [],
   "outputs": [],
   "metadata": {}
  }
 ],
 "metadata": {
  "orig_nbformat": 4,
  "language_info": {
   "name": "python",
   "version": "3.9.2",
   "mimetype": "text/x-python",
   "codemirror_mode": {
    "name": "ipython",
    "version": 3
   },
   "pygments_lexer": "ipython3",
   "nbconvert_exporter": "python",
   "file_extension": ".py"
  },
  "kernelspec": {
   "name": "python3",
   "display_name": "Python 3.9.2 64-bit ('shims': pyenv)"
  },
  "interpreter": {
   "hash": "490cd8e9547ae4d5268484482f3f2bd0ae2099b8c897d6938ed2ccb9376866ed"
  }
 },
 "nbformat": 4,
 "nbformat_minor": 2
}